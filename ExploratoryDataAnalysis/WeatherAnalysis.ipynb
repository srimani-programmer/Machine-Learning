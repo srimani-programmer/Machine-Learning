{
 "cells": [
  {
   "cell_type": "markdown",
   "metadata": {},
   "source": [
    "# Weather Analysis Of Weather Dataset"
   ]
  },
  {
   "cell_type": "code",
   "execution_count": 1,
   "metadata": {},
   "outputs": [],
   "source": [
    "# Importing the libraries\n",
    "import pandas as pd"
   ]
  },
  {
   "cell_type": "code",
   "execution_count": 2,
   "metadata": {},
   "outputs": [],
   "source": [
    "df = pd.read_csv('weather.csv')"
   ]
  },
  {
   "cell_type": "code",
   "execution_count": 3,
   "metadata": {},
   "outputs": [
    {
     "name": "stdout",
     "output_type": "stream",
     "text": [
      "(30, 70)\n"
     ]
    }
   ],
   "source": [
    "# Shape of the Dataset\n",
    "print(df.shape)"
   ]
  },
  {
   "cell_type": "code",
   "execution_count": 4,
   "metadata": {},
   "outputs": [
    {
     "name": "stdout",
     "output_type": "stream",
     "text": [
      "         date  maxpressurem  maxdewptm  maxpressurei  maxdewpti  \\\n",
      "0  2011-05-01          1026          6         30.31         42   \n",
      "1  2011-05-02          1026         10         30.31         50   \n",
      "2  2011-05-03          1021         15         30.14         59   \n",
      "3  2011-05-04          1017         14         30.03         57   \n",
      "4  2011-05-05          1016          4         30.01         39   \n",
      "5  2011-05-06          1015          8         29.99         46   \n",
      "6  2011-05-07          1011          8         29.87         47   \n",
      "7  2011-05-08          1014          9         29.96         48   \n",
      "8  2011-05-09          1016          9         30.01         49   \n",
      "9  2011-05-10          1017          8         30.05         47   \n",
      "\n",
      "   since1julheatingdegreedaysnormal  heatingdegreedaysnormal  \\\n",
      "0                              4646                        8   \n",
      "1                              4653                        7   \n",
      "2                              4660                        7   \n",
      "3                              4667                        7   \n",
      "4                              4673                        6   \n",
      "5                              4679                        6   \n",
      "6                              4685                        6   \n",
      "7                              4691                        6   \n",
      "8                              4696                        5   \n",
      "9                              4701                        5   \n",
      "\n",
      "   since1sepcoolingdegreedaysnormal  hail  since1julsnowfallm    ...      \\\n",
      "0                               NaN     0              157.23    ...       \n",
      "1                               NaN     0              157.23    ...       \n",
      "2                               NaN     0              157.23    ...       \n",
      "3                               NaN     0              157.23    ...       \n",
      "4                               NaN     0              157.23    ...       \n",
      "5                               NaN     0              157.23    ...       \n",
      "6                               NaN     0              157.23    ...       \n",
      "7                               NaN     0              157.23    ...       \n",
      "8                               NaN     0              157.23    ...       \n",
      "9                               NaN     0              157.23    ...       \n",
      "\n",
      "   precipi  snowfalli  since1jancoolingdegreedaysnormal  precipm  snowfallm  \\\n",
      "0      0.0        0.0                                13      0.0        0.0   \n",
      "1      0.0        0.0                                14      0.0        0.0   \n",
      "2      0.0        0.0                                15      0.0        0.0   \n",
      "3      0.5        0.0                                16     12.7        0.0   \n",
      "4      0.0        0.0                                17      0.0        0.0   \n",
      "5      0.0        0.0                                18      0.0        0.0   \n",
      "6      0.0        0.0                                19      0.0        0.0   \n",
      "7      0.0        0.0                                20      0.0        0.0   \n",
      "8      0.0        0.0                                21      0.0        0.0   \n",
      "9      0.0        0.0                                22      0.0        0.0   \n",
      "\n",
      "   thunder  monthtodateheatingdegreedays  meantempi  maxvism  meantempm  \n",
      "0        0                             5         60       16         16  \n",
      "1        0                            13         57       16         14  \n",
      "2        0                            13         65       16         18  \n",
      "3        0                            23         55       16         13  \n",
      "4        0                            32         56       16         13  \n",
      "5        0                            36         61       16         16  \n",
      "6        0                            37         64       16         18  \n",
      "7        0                            39         63       16         17  \n",
      "8        0                            41         63       16         17  \n",
      "9        0                            42         64       16         18  \n",
      "\n",
      "[10 rows x 70 columns]\n"
     ]
    }
   ],
   "source": [
    "print(df.head(10))"
   ]
  },
  {
   "cell_type": "code",
   "execution_count": 5,
   "metadata": {},
   "outputs": [
    {
     "name": "stdout",
     "output_type": "stream",
     "text": [
      "<class 'pandas.core.frame.DataFrame'>\n",
      "RangeIndex: 30 entries, 0 to 29\n",
      "Data columns (total 70 columns):\n",
      "date                                  30 non-null object\n",
      "maxpressurem                          30 non-null int64\n",
      "maxdewptm                             30 non-null int64\n",
      "maxpressurei                          30 non-null float64\n",
      "maxdewpti                             30 non-null int64\n",
      "since1julheatingdegreedaysnormal      30 non-null int64\n",
      "heatingdegreedaysnormal               30 non-null int64\n",
      "since1sepcoolingdegreedaysnormal      0 non-null float64\n",
      "hail                                  30 non-null int64\n",
      "since1julsnowfallm                    30 non-null float64\n",
      "since1julheatingdegreedays            30 non-null int64\n",
      "maxvisi                               30 non-null int64\n",
      "since1sepheatingdegreedaysnormal      0 non-null float64\n",
      "heatingdegreedays                     30 non-null int64\n",
      "mindewptm                             30 non-null int64\n",
      "since1sepheatingdegreedays            0 non-null float64\n",
      "maxwspdm                              30 non-null int64\n",
      "since1julsnowfalli                    30 non-null float64\n",
      "since1sepcoolingdegreedays            0 non-null float64\n",
      "snow                                  30 non-null int64\n",
      "meanvism                              30 non-null int64\n",
      "meandewptm                            30 non-null int64\n",
      "snowdepthm                            29 non-null float64\n",
      "meanvisi                              30 non-null int64\n",
      "fog                                   30 non-null int64\n",
      "snowdepthi                            29 non-null float64\n",
      "minvism                               30 non-null int64\n",
      "since1jancoolingdegreedays            30 non-null int64\n",
      "minvisi                               30 non-null int64\n",
      "coolingdegreedaysnormal               30 non-null int64\n",
      "gdegreedays                           30 non-null int64\n",
      "maxwspdi                              30 non-null int64\n",
      "meanwindspdi                          30 non-null int64\n",
      "meanpressurei                         30 non-null float64\n",
      "monthtodateheatingdegreedaysnormal    30 non-null int64\n",
      "meanwindspdm                          30 non-null int64\n",
      "meanpressurem                         30 non-null int64\n",
      "tornado                               30 non-null int64\n",
      "mindewpti                             30 non-null int64\n",
      "mintempi                              30 non-null int64\n",
      "meandewpti                            30 non-null int64\n",
      "rain                                  30 non-null int64\n",
      "mintempm                              30 non-null int64\n",
      "minhumidity                           30 non-null int64\n",
      "precipsource                          0 non-null float64\n",
      "minwspdi                              30 non-null int64\n",
      "meanwdird                             30 non-null int64\n",
      "meanwdire                             0 non-null float64\n",
      "minwspdm                              30 non-null int64\n",
      "monthtodatesnowfalli                  30 non-null float64\n",
      "monthtodatecoolingdegreedaysnormal    30 non-null int64\n",
      "monthtodatesnowfallm                  30 non-null float64\n",
      "maxhumidity                           30 non-null int64\n",
      "coolingdegreedays                     30 non-null int64\n",
      "maxtempm                              30 non-null int64\n",
      "minpressurei                          30 non-null float64\n",
      "monthtodatecoolingdegreedays          30 non-null int64\n",
      "maxtempi                              30 non-null int64\n",
      "minpressurem                          30 non-null int64\n",
      "humidity                              0 non-null float64\n",
      "precipi                               30 non-null float64\n",
      "snowfalli                             30 non-null float64\n",
      "since1jancoolingdegreedaysnormal      30 non-null int64\n",
      "precipm                               30 non-null float64\n",
      "snowfallm                             30 non-null float64\n",
      "thunder                               30 non-null int64\n",
      "monthtodateheatingdegreedays          30 non-null int64\n",
      "meantempi                             30 non-null int64\n",
      "maxvism                               30 non-null int64\n",
      "meantempm                             30 non-null int64\n",
      "dtypes: float64(20), int64(49), object(1)\n",
      "memory usage: 16.5+ KB\n",
      "None\n"
     ]
    }
   ],
   "source": [
    "# Information of the Dataset\n",
    "print(df.info())"
   ]
  },
  {
   "cell_type": "markdown",
   "metadata": {},
   "source": [
    "## Addressing the Rainfall"
   ]
  },
  {
   "cell_type": "code",
   "execution_count": 7,
   "metadata": {},
   "outputs": [
    {
     "name": "stdout",
     "output_type": "stream",
     "text": [
      "rain\n",
      "0    20\n",
      "1    10\n",
      "dtype: int64\n"
     ]
    }
   ],
   "source": [
    "print(df.groupby('rain').size())"
   ]
  },
  {
   "cell_type": "markdown",
   "metadata": {},
   "source": [
    "## Addressing the Tornado"
   ]
  },
  {
   "cell_type": "code",
   "execution_count": 10,
   "metadata": {},
   "outputs": [
    {
     "name": "stdout",
     "output_type": "stream",
     "text": [
      "tornado\n",
      "0    30\n",
      "dtype: int64\n"
     ]
    }
   ],
   "source": [
    "print(df.groupby('tornado').size())"
   ]
  },
  {
   "cell_type": "markdown",
   "metadata": {},
   "source": [
    "## Addressing Snowfall"
   ]
  },
  {
   "cell_type": "code",
   "execution_count": 11,
   "metadata": {},
   "outputs": [
    {
     "name": "stdout",
     "output_type": "stream",
     "text": [
      "snowfallm\n",
      "0.0    30\n",
      "dtype: int64\n"
     ]
    }
   ],
   "source": [
    "print(df.groupby('snowfallm').size())"
   ]
  },
  {
   "cell_type": "markdown",
   "metadata": {},
   "source": [
    "## Addressing MeanTemperature"
   ]
  },
  {
   "cell_type": "code",
   "execution_count": 12,
   "metadata": {},
   "outputs": [
    {
     "name": "stdout",
     "output_type": "stream",
     "text": [
      "meantempi\n",
      "55    1\n",
      "56    3\n",
      "57    1\n",
      "58    1\n",
      "60    2\n",
      "61    5\n",
      "62    1\n",
      "63    3\n",
      "64    3\n",
      "65    1\n",
      "67    1\n",
      "68    1\n",
      "71    1\n",
      "74    2\n",
      "75    2\n",
      "76    1\n",
      "78    1\n",
      "dtype: int64\n"
     ]
    }
   ],
   "source": [
    "print(df.groupby('meantempi').size())"
   ]
  },
  {
   "cell_type": "markdown",
   "metadata": {},
   "source": [
    "## Addressing Max Pressure"
   ]
  },
  {
   "cell_type": "code",
   "execution_count": 13,
   "metadata": {},
   "outputs": [
    {
     "name": "stdout",
     "output_type": "stream",
     "text": [
      "maxpressurem\n",
      "1007    1\n",
      "1009    1\n",
      "1011    2\n",
      "1012    1\n",
      "1014    3\n",
      "1015    3\n",
      "1016    3\n",
      "1017    6\n",
      "1019    3\n",
      "1020    1\n",
      "1021    3\n",
      "1023    1\n",
      "1026    2\n",
      "dtype: int64\n"
     ]
    }
   ],
   "source": [
    "print(df.groupby('maxpressurem').size())"
   ]
  },
  {
   "cell_type": "code",
   "execution_count": null,
   "metadata": {},
   "outputs": [],
   "source": []
  }
 ],
 "metadata": {
  "kernelspec": {
   "display_name": "Python 3",
   "language": "python",
   "name": "python3"
  },
  "language_info": {
   "codemirror_mode": {
    "name": "ipython",
    "version": 3
   },
   "file_extension": ".py",
   "mimetype": "text/x-python",
   "name": "python",
   "nbconvert_exporter": "python",
   "pygments_lexer": "ipython3",
   "version": "3.6.6"
  }
 },
 "nbformat": 4,
 "nbformat_minor": 2
}
